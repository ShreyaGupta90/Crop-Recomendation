{
  "metadata": {
    "kernelspec": {
      "name": "python3",
      "display_name": "Python 3",
      "language": "python"
    },
    "language_info": {
      "name": "python",
      "version": "3.10.13",
      "mimetype": "text/x-python",
      "codemirror_mode": {
        "name": "ipython",
        "version": 3
      },
      "pygments_lexer": "ipython3",
      "nbconvert_exporter": "python",
      "file_extension": ".py"
    },
    "kaggle": {
      "accelerator": "none",
      "dataSources": [
        {
          "sourceId": 5511,
          "sourceType": "datasetVersion",
          "datasetId": 2913
        },
        {
          "sourceId": 1009146,
          "sourceType": "datasetVersion",
          "datasetId": 554106
        },
        {
          "sourceId": 2086762,
          "sourceType": "datasetVersion",
          "datasetId": 1251188
        },
        {
          "sourceId": 4976975,
          "sourceType": "datasetVersion",
          "datasetId": 1850858
        },
        {
          "sourceId": 5237894,
          "sourceType": "datasetVersion",
          "datasetId": 3047514
        },
        {
          "sourceId": 5781002,
          "sourceType": "datasetVersion",
          "datasetId": 2849957
        },
        {
          "sourceId": 5946462,
          "sourceType": "datasetVersion",
          "datasetId": 3411913
        },
        {
          "sourceId": 6052389,
          "sourceType": "datasetVersion",
          "datasetId": 3462667
        },
        {
          "sourceId": 7358196,
          "sourceType": "datasetVersion",
          "datasetId": 4273889
        },
        {
          "sourceId": 7471295,
          "sourceType": "datasetVersion",
          "datasetId": 4349490
        },
        {
          "sourceId": 7669714,
          "sourceType": "datasetVersion",
          "datasetId": 4473262
        },
        {
          "sourceId": 7838071,
          "sourceType": "datasetVersion",
          "datasetId": 4594612
        },
        {
          "sourceId": 8048437,
          "sourceType": "datasetVersion",
          "datasetId": 4746100
        }
      ],
      "dockerImageVersionId": 30698,
      "isInternetEnabled": false,
      "language": "python",
      "sourceType": "notebook",
      "isGpuEnabled": false
    },
    "colab": {
      "name": "notebooke8b3e635e6",
      "provenance": []
    }
  },
  "nbformat_minor": 0,
  "nbformat": 4,
  "cells": [
    {
      "cell_type": "code",
      "source": [
        "import numpy as np\n",
        "import pandas as pd\n",
        "\n",
        "#for data visualization\n",
        "import matplotlib.pyplot as plt\n",
        "import seaborn as sns\n",
        "\n",
        "# for interactivity\n",
        "from ipywidgets import interact\n",
        "\n",
        "from sklearn.cluster import KMeans\n",
        "from sklearn.linear_model import LogisticRegression\n",
        "\n",
        "from sklearn.model_selection import train_test_split\n",
        "\n",
        "from sklearn.metrics import accuracy_score, precision_score, recall_score, f1_score, roc_auc_score\n",
        "\n",
        "import warnings\n",
        "\n",
        "# Ignore all warnings\n",
        "warnings.filterwarnings(\"ignore\")"
      ],
      "metadata": {
        "trusted": true,
        "execution": {
          "iopub.status.busy": "2025-09-10T15:12:14.49405Z",
          "iopub.execute_input": "2025-09-10T15:12:14.494575Z",
          "iopub.status.idle": "2025-09-10T15:12:17.981986Z",
          "shell.execute_reply.started": "2025-09-10T15:12:14.494534Z",
          "shell.execute_reply": "2025-09-10T15:12:17.980794Z"
        },
        "id": "uioVgLZVQnny"
      },
      "outputs": [],
      "execution_count": 1
    },
    {
      "cell_type": "code",
      "source": [
        "data = pd.read_csv('/content/data (1).csv')"
      ],
      "metadata": {
        "trusted": true,
        "execution": {
          "iopub.status.busy": "2025-09-10T15:12:17.984568Z",
          "iopub.execute_input": "2025-09-10T15:12:17.985162Z",
          "iopub.status.idle": "2025-09-10T15:12:18.015139Z",
          "shell.execute_reply.started": "2025-09-10T15:12:17.985128Z",
          "shell.execute_reply": "2025-09-10T15:12:18.013979Z"
        },
        "id": "2JagE7QkQnnz"
      },
      "outputs": [],
      "execution_count": 2
    },
    {
      "cell_type": "code",
      "source": [
        "# checking the shape of the dataset\n",
        "print('Shape of the dataset is: ' , data.shape)"
      ],
      "metadata": {
        "trusted": true,
        "execution": {
          "iopub.status.busy": "2025-09-10T15:12:18.016656Z",
          "iopub.execute_input": "2025-09-10T15:12:18.017Z",
          "iopub.status.idle": "2025-09-10T15:12:18.023463Z",
          "shell.execute_reply.started": "2025-09-10T15:12:18.016973Z",
          "shell.execute_reply": "2025-09-10T15:12:18.022012Z"
        },
        "colab": {
          "base_uri": "https://localhost:8080/"
        },
        "id": "OdR_nMiIQnnz",
        "outputId": "da93b464-2ad6-4bf8-e5d6-a6d1cc8a2028"
      },
      "outputs": [
        {
          "output_type": "stream",
          "name": "stdout",
          "text": [
            "Shape of the dataset is:  (2200, 8)\n"
          ]
        }
      ],
      "execution_count": 3
    },
    {
      "cell_type": "code",
      "source": [
        "# checking the columns Names\n",
        "print(data.columns)"
      ],
      "metadata": {
        "trusted": true,
        "execution": {
          "iopub.status.busy": "2025-09-10T15:12:18.02498Z",
          "iopub.execute_input": "2025-09-10T15:12:18.025464Z",
          "iopub.status.idle": "2025-09-10T15:12:18.048208Z",
          "shell.execute_reply.started": "2025-09-10T15:12:18.025427Z",
          "shell.execute_reply": "2025-09-10T15:12:18.046975Z"
        },
        "colab": {
          "base_uri": "https://localhost:8080/"
        },
        "id": "ypLi73LRQnn0",
        "outputId": "4fff2a43-c6a5-4ded-dcc9-79c3eaf4d967"
      },
      "outputs": [
        {
          "output_type": "stream",
          "name": "stdout",
          "text": [
            "Index(['N', 'P', 'K', 'temperature', 'humidity', 'ph', 'rainfall', 'label'], dtype='object')\n"
          ]
        }
      ],
      "execution_count": 4
    },
    {
      "cell_type": "code",
      "source": [
        "# checking dataset data of first 10 rows by using head function..\n",
        "print(data.head(10))"
      ],
      "metadata": {
        "trusted": true,
        "execution": {
          "iopub.status.busy": "2025-09-10T15:12:18.052112Z",
          "iopub.execute_input": "2025-09-10T15:12:18.05261Z",
          "iopub.status.idle": "2025-09-10T15:12:18.076242Z",
          "shell.execute_reply.started": "2025-09-10T15:12:18.052582Z",
          "shell.execute_reply": "2025-09-10T15:12:18.074947Z"
        },
        "colab": {
          "base_uri": "https://localhost:8080/"
        },
        "id": "W3oxA9M2Qnn0",
        "outputId": "d2e0d74a-3a5d-4639-c77f-25df5cd5243e"
      },
      "outputs": [
        {
          "output_type": "stream",
          "name": "stdout",
          "text": [
            "    N   P   K  temperature   humidity        ph    rainfall label\n",
            "0  90  42  43    20.879744  82.002744  6.502985  202.935536  rice\n",
            "1  85  58  41    21.770462  80.319644  7.038096  226.655537  rice\n",
            "2  60  55  44    23.004459  82.320763  7.840207  263.964248  rice\n",
            "3  74  35  40    26.491096  80.158363  6.980401  242.864034  rice\n",
            "4  78  42  42    20.130175  81.604873  7.628473  262.717340  rice\n",
            "5  69  37  42    23.058049  83.370118  7.073454  251.055000  rice\n",
            "6  69  55  38    22.708838  82.639414  5.700806  271.324860  rice\n",
            "7  94  53  40    20.277744  82.894086  5.718627  241.974195  rice\n",
            "8  89  54  38    24.515881  83.535216  6.685346  230.446236  rice\n",
            "9  68  58  38    23.223974  83.033227  6.336254  221.209196  rice\n"
          ]
        }
      ],
      "execution_count": 5
    },
    {
      "cell_type": "code",
      "source": [
        "#checking null values to prevent errors\n",
        "data.isnull().sum()\n",
        "\n"
      ],
      "metadata": {
        "trusted": true,
        "execution": {
          "iopub.status.busy": "2025-09-10T15:12:18.077931Z",
          "iopub.execute_input": "2025-09-10T15:12:18.078662Z",
          "iopub.status.idle": "2025-09-10T15:12:18.096096Z",
          "shell.execute_reply.started": "2025-09-10T15:12:18.078619Z",
          "shell.execute_reply": "2025-09-10T15:12:18.09473Z"
        },
        "colab": {
          "base_uri": "https://localhost:8080/",
          "height": 335
        },
        "id": "09V1DuneQnn0",
        "outputId": "6a043b25-bb04-42b2-bb27-890c5cc71228"
      },
      "outputs": [
        {
          "output_type": "execute_result",
          "data": {
            "text/plain": [
              "N              0\n",
              "P              0\n",
              "K              0\n",
              "temperature    0\n",
              "humidity       0\n",
              "ph             0\n",
              "rainfall       0\n",
              "label          0\n",
              "dtype: int64"
            ],
            "text/html": [
              "<div>\n",
              "<style scoped>\n",
              "    .dataframe tbody tr th:only-of-type {\n",
              "        vertical-align: middle;\n",
              "    }\n",
              "\n",
              "    .dataframe tbody tr th {\n",
              "        vertical-align: top;\n",
              "    }\n",
              "\n",
              "    .dataframe thead th {\n",
              "        text-align: right;\n",
              "    }\n",
              "</style>\n",
              "<table border=\"1\" class=\"dataframe\">\n",
              "  <thead>\n",
              "    <tr style=\"text-align: right;\">\n",
              "      <th></th>\n",
              "      <th>0</th>\n",
              "    </tr>\n",
              "  </thead>\n",
              "  <tbody>\n",
              "    <tr>\n",
              "      <th>N</th>\n",
              "      <td>0</td>\n",
              "    </tr>\n",
              "    <tr>\n",
              "      <th>P</th>\n",
              "      <td>0</td>\n",
              "    </tr>\n",
              "    <tr>\n",
              "      <th>K</th>\n",
              "      <td>0</td>\n",
              "    </tr>\n",
              "    <tr>\n",
              "      <th>temperature</th>\n",
              "      <td>0</td>\n",
              "    </tr>\n",
              "    <tr>\n",
              "      <th>humidity</th>\n",
              "      <td>0</td>\n",
              "    </tr>\n",
              "    <tr>\n",
              "      <th>ph</th>\n",
              "      <td>0</td>\n",
              "    </tr>\n",
              "    <tr>\n",
              "      <th>rainfall</th>\n",
              "      <td>0</td>\n",
              "    </tr>\n",
              "    <tr>\n",
              "      <th>label</th>\n",
              "      <td>0</td>\n",
              "    </tr>\n",
              "  </tbody>\n",
              "</table>\n",
              "</div><br><label><b>dtype:</b> int64</label>"
            ]
          },
          "metadata": {},
          "execution_count": 6
        }
      ],
      "execution_count": 6
    },
    {
      "cell_type": "code",
      "source": [
        "# checking the crops preset in our dataset and quantity of it..\n",
        "data['label'].value_counts()"
      ],
      "metadata": {
        "trusted": true,
        "execution": {
          "iopub.status.busy": "2025-09-10T15:12:18.097585Z",
          "iopub.execute_input": "2025-09-10T15:12:18.097909Z",
          "iopub.status.idle": "2025-09-10T15:12:18.113175Z",
          "shell.execute_reply.started": "2025-09-10T15:12:18.097885Z",
          "shell.execute_reply": "2025-09-10T15:12:18.111615Z"
        },
        "colab": {
          "base_uri": "https://localhost:8080/",
          "height": 805
        },
        "id": "buhaQ7tpQnn1",
        "outputId": "22b0dc64-56a4-40ce-debb-3c254a9f9d8f"
      },
      "outputs": [
        {
          "output_type": "execute_result",
          "data": {
            "text/plain": [
              "label\n",
              "rice           100\n",
              "maize          100\n",
              "chickpea       100\n",
              "kidneybeans    100\n",
              "pigeonpeas     100\n",
              "mothbeans      100\n",
              "mungbean       100\n",
              "blackgram      100\n",
              "lentil         100\n",
              "pomegranate    100\n",
              "banana         100\n",
              "mango          100\n",
              "grapes         100\n",
              "watermelon     100\n",
              "muskmelon      100\n",
              "apple          100\n",
              "orange         100\n",
              "papaya         100\n",
              "coconut        100\n",
              "cotton         100\n",
              "jute           100\n",
              "coffee         100\n",
              "Name: count, dtype: int64"
            ],
            "text/html": [
              "<div>\n",
              "<style scoped>\n",
              "    .dataframe tbody tr th:only-of-type {\n",
              "        vertical-align: middle;\n",
              "    }\n",
              "\n",
              "    .dataframe tbody tr th {\n",
              "        vertical-align: top;\n",
              "    }\n",
              "\n",
              "    .dataframe thead th {\n",
              "        text-align: right;\n",
              "    }\n",
              "</style>\n",
              "<table border=\"1\" class=\"dataframe\">\n",
              "  <thead>\n",
              "    <tr style=\"text-align: right;\">\n",
              "      <th></th>\n",
              "      <th>count</th>\n",
              "    </tr>\n",
              "    <tr>\n",
              "      <th>label</th>\n",
              "      <th></th>\n",
              "    </tr>\n",
              "  </thead>\n",
              "  <tbody>\n",
              "    <tr>\n",
              "      <th>rice</th>\n",
              "      <td>100</td>\n",
              "    </tr>\n",
              "    <tr>\n",
              "      <th>maize</th>\n",
              "      <td>100</td>\n",
              "    </tr>\n",
              "    <tr>\n",
              "      <th>chickpea</th>\n",
              "      <td>100</td>\n",
              "    </tr>\n",
              "    <tr>\n",
              "      <th>kidneybeans</th>\n",
              "      <td>100</td>\n",
              "    </tr>\n",
              "    <tr>\n",
              "      <th>pigeonpeas</th>\n",
              "      <td>100</td>\n",
              "    </tr>\n",
              "    <tr>\n",
              "      <th>mothbeans</th>\n",
              "      <td>100</td>\n",
              "    </tr>\n",
              "    <tr>\n",
              "      <th>mungbean</th>\n",
              "      <td>100</td>\n",
              "    </tr>\n",
              "    <tr>\n",
              "      <th>blackgram</th>\n",
              "      <td>100</td>\n",
              "    </tr>\n",
              "    <tr>\n",
              "      <th>lentil</th>\n",
              "      <td>100</td>\n",
              "    </tr>\n",
              "    <tr>\n",
              "      <th>pomegranate</th>\n",
              "      <td>100</td>\n",
              "    </tr>\n",
              "    <tr>\n",
              "      <th>banana</th>\n",
              "      <td>100</td>\n",
              "    </tr>\n",
              "    <tr>\n",
              "      <th>mango</th>\n",
              "      <td>100</td>\n",
              "    </tr>\n",
              "    <tr>\n",
              "      <th>grapes</th>\n",
              "      <td>100</td>\n",
              "    </tr>\n",
              "    <tr>\n",
              "      <th>watermelon</th>\n",
              "      <td>100</td>\n",
              "    </tr>\n",
              "    <tr>\n",
              "      <th>muskmelon</th>\n",
              "      <td>100</td>\n",
              "    </tr>\n",
              "    <tr>\n",
              "      <th>apple</th>\n",
              "      <td>100</td>\n",
              "    </tr>\n",
              "    <tr>\n",
              "      <th>orange</th>\n",
              "      <td>100</td>\n",
              "    </tr>\n",
              "    <tr>\n",
              "      <th>papaya</th>\n",
              "      <td>100</td>\n",
              "    </tr>\n",
              "    <tr>\n",
              "      <th>coconut</th>\n",
              "      <td>100</td>\n",
              "    </tr>\n",
              "    <tr>\n",
              "      <th>cotton</th>\n",
              "      <td>100</td>\n",
              "    </tr>\n",
              "    <tr>\n",
              "      <th>jute</th>\n",
              "      <td>100</td>\n",
              "    </tr>\n",
              "    <tr>\n",
              "      <th>coffee</th>\n",
              "      <td>100</td>\n",
              "    </tr>\n",
              "  </tbody>\n",
              "</table>\n",
              "</div><br><label><b>dtype:</b> int64</label>"
            ]
          },
          "metadata": {},
          "execution_count": 7
        }
      ],
      "execution_count": 7
    },
    {
      "cell_type": "code",
      "source": [
        "# checking the summary of all crops\n",
        "\n",
        "print('Average Ratio of Nitrogen in the soil : {0:2f}'.format(data['N'].mean()))\n",
        "print('Average Ratio of Phosphorous in the soil : {0:2f}'.format(data['P'].mean()))\n",
        "print('Average Ratio of Potassium in the soil : {0:2f}'.format(data['K'].mean()))\n",
        "print('Average Temperature in Celsius : {0:2f}'.format(data['temperature'].mean()))\n",
        "print('Average Relative Humidity in % : {0:2f}'.format(data['humidity'].mean()))\n",
        "print('Average PH value of the soil: {0:2f}'.format(data['ph'].mean()))\n",
        "print('Average Rainfall in mm: {0:2f}'.format(data['rainfall'].mean()))\n"
      ],
      "metadata": {
        "trusted": true,
        "execution": {
          "iopub.status.busy": "2025-09-10T15:12:18.114614Z",
          "iopub.execute_input": "2025-09-10T15:12:18.115022Z",
          "iopub.status.idle": "2025-09-10T15:12:18.133577Z",
          "shell.execute_reply.started": "2025-09-10T15:12:18.114993Z",
          "shell.execute_reply": "2025-09-10T15:12:18.132015Z"
        },
        "colab": {
          "base_uri": "https://localhost:8080/"
        },
        "id": "jg8kMMH0Qnn1",
        "outputId": "9e34775b-9884-4932-a9f9-602cea802dfe"
      },
      "outputs": [
        {
          "output_type": "stream",
          "name": "stdout",
          "text": [
            "Average Ratio of Nitrogen in the soil : 50.551818\n",
            "Average Ratio of Phosphorous in the soil : 53.362727\n",
            "Average Ratio of Potassium in the soil : 48.149091\n",
            "Average Temperature in Celsius : 25.616244\n",
            "Average Relative Humidity in % : 71.481779\n",
            "Average PH value of the soil: 6.469480\n",
            "Average Rainfall in mm: 103.463655\n"
          ]
        }
      ],
      "execution_count": 8
    },
    {
      "cell_type": "code",
      "source": [
        "\n",
        "print('Crops which require very high Ratio of Nitrogen Content in soil :', data[data['N']>120]['label'].unique())\n",
        "\n",
        "print('Crops which require very high Ratio of Phosphorous Content in soil :', data[data['P']>100]['label'].unique())\n",
        "\n",
        "print('Crops which require very high Ratio of Potassium Content in soil :', data[data['K']>200]['label'].unique())\n",
        "\n",
        "print('Crops which require very high Ratio of Rainfall Content in soil :', data[data['rainfall']>200]['label'].unique())\n",
        "\n",
        "print('Crops which require very low Temperature :', data[data['temperature']<10]['label'].unique())\n",
        "\n",
        "print('Crops which require very high Temperature :', data[data['temperature']>40]['label'].unique())\n",
        "\n",
        "print('Crops which require very low HUmidity :', data[data['humidity']<20]['label'].unique())\n",
        "\n",
        "print('Crops which require very low PH :', data[data['ph']<4]['label'].unique())\n",
        "\n",
        "print('Crops which require very high PH :', data[data['ph']>9]['label'].unique())\n",
        "\n"
      ],
      "metadata": {
        "trusted": true,
        "execution": {
          "iopub.status.busy": "2025-09-10T15:12:19.862125Z",
          "iopub.execute_input": "2025-09-10T15:12:19.862591Z",
          "iopub.status.idle": "2025-09-10T15:12:19.883472Z",
          "shell.execute_reply.started": "2025-09-10T15:12:19.86255Z",
          "shell.execute_reply": "2025-09-10T15:12:19.882323Z"
        },
        "colab": {
          "base_uri": "https://localhost:8080/"
        },
        "id": "Dnb8J62hQnn2",
        "outputId": "23eb313b-d527-46f4-8e7c-1ccd0431c0a7"
      },
      "outputs": [
        {
          "output_type": "stream",
          "name": "stdout",
          "text": [
            "Crops which require very high Ratio of Nitrogen Content in soil : ['cotton']\n",
            "Crops which require very high Ratio of Phosphorous Content in soil : ['grapes' 'apple']\n",
            "Crops which require very high Ratio of Potassium Content in soil : ['grapes' 'apple']\n",
            "Crops which require very high Ratio of Rainfall Content in soil : ['rice' 'papaya' 'coconut']\n",
            "Crops which require very low Temperature : ['grapes']\n",
            "Crops which require very high Temperature : ['grapes' 'papaya']\n",
            "Crops which require very low HUmidity : ['chickpea' 'kidneybeans']\n",
            "Crops which require very low PH : ['mothbeans']\n",
            "Crops which require very high PH : ['mothbeans']\n"
          ]
        }
      ],
      "execution_count": 9
    },
    {
      "cell_type": "code",
      "source": [
        "# Understanding which crops can on be grown in summer,winter season and rainy season\n",
        "\n",
        "print('Summer Season Crops')\n",
        "print(data[(data['temperature']>30) &(data['humidity']>50)]['label'].unique())\n",
        "print('-------------------------------------------------')\n",
        "print('Winter Season Crops')\n",
        "print(data[(data['temperature']<20) &(data['humidity']>30)]['label'].unique())\n",
        "print('-------------------------------------------------')\n",
        "print('Rainy Season Crops')\n",
        "print(data[(data['rainfall']>200) &(data['humidity']>30)]['label'].unique())"
      ],
      "metadata": {
        "trusted": true,
        "execution": {
          "iopub.status.busy": "2025-09-10T15:12:19.888819Z",
          "iopub.execute_input": "2025-09-10T15:12:19.889227Z",
          "iopub.status.idle": "2025-09-10T15:12:19.908436Z",
          "shell.execute_reply.started": "2025-09-10T15:12:19.889201Z",
          "shell.execute_reply": "2025-09-10T15:12:19.906938Z"
        },
        "colab": {
          "base_uri": "https://localhost:8080/"
        },
        "id": "c9PfLKYyQnn3",
        "outputId": "4948b443-c35b-4b7d-9509-b8b7a5c31373"
      },
      "outputs": [
        {
          "output_type": "stream",
          "name": "stdout",
          "text": [
            "Summer Season Crops\n",
            "['pigeonpeas' 'mothbeans' 'blackgram' 'mango' 'grapes' 'orange' 'papaya']\n",
            "-------------------------------------------------\n",
            "Winter Season Crops\n",
            "['maize' 'pigeonpeas' 'lentil' 'pomegranate' 'grapes' 'orange']\n",
            "-------------------------------------------------\n",
            "Rainy Season Crops\n",
            "['rice' 'papaya' 'coconut']\n"
          ]
        }
      ],
      "execution_count": 10
    },
    {
      "cell_type": "code",
      "source": [
        "from sklearn.cluster import KMeans\n",
        "\n",
        "#Removing the label column cause there is no need of label in clustering\n",
        "x = data.drop(['label'],axis=1)\n",
        "\n",
        "#Selecting all the values of the data\n",
        "x = x.values\n",
        "\n",
        "print(x.shape)"
      ],
      "metadata": {
        "trusted": true,
        "execution": {
          "iopub.status.busy": "2025-09-10T15:12:19.90955Z",
          "iopub.execute_input": "2025-09-10T15:12:19.909873Z",
          "iopub.status.idle": "2025-09-10T15:12:19.929091Z",
          "shell.execute_reply.started": "2025-09-10T15:12:19.909848Z",
          "shell.execute_reply": "2025-09-10T15:12:19.927536Z"
        },
        "colab": {
          "base_uri": "https://localhost:8080/"
        },
        "id": "G7jsI4BGQnn3",
        "outputId": "e2f40a08-3b47-4345-d058-54a83d55fa4b"
      },
      "outputs": [
        {
          "output_type": "stream",
          "name": "stdout",
          "text": [
            "(2200, 7)\n"
          ]
        }
      ],
      "execution_count": 11
    },
    {
      "cell_type": "code",
      "source": [
        "# determine the Optimum Number of Cluster withing dataset\n",
        "plt.rcParams['figure.figsize']=(10,4)\n",
        "\n",
        "wcss = []\n",
        "for i  in range(1,11):\n",
        "    km = KMeans(n_clusters = i, init= 'k-means++', max_iter = 300, n_init = 10, random_state =0)\n",
        "    km.fit(x)\n",
        "    wcss.append(km.inertia_)\n",
        "\n",
        "#lets plot the results\n",
        "plt.plot(range(1,11), wcss)\n",
        "plt.title('The Elbow Method', fontsize=20)\n",
        "plt.xlabel('No of Clusters')\n",
        "plt.ylabel('wcss')\n",
        "plt.show()"
      ],
      "metadata": {
        "trusted": true,
        "execution": {
          "iopub.status.busy": "2025-09-10T15:12:19.930498Z",
          "iopub.execute_input": "2025-09-10T15:12:19.930962Z",
          "iopub.status.idle": "2025-09-10T15:12:29.725987Z",
          "shell.execute_reply.started": "2025-09-10T15:12:19.930933Z",
          "shell.execute_reply": "2025-09-10T15:12:29.72489Z"
        },
        "colab": {
          "base_uri": "https://localhost:8080/",
          "height": 418
        },
        "id": "qzQrgSfHQnn3",
        "outputId": "d8fccb3c-f050-486c-d11e-6bce44604e68"
      },
      "outputs": [
        {
          "output_type": "display_data",
          "data": {
            "text/plain": [
              "<Figure size 1000x400 with 1 Axes>"
            ],
            "image/png": "[encoded data removed]"
          },
          "metadata": {}
        }
      ],
      "execution_count": 12
    },
    {
      "cell_type": "code",
      "source": [
        "# implementing the KMeans algorithm to perform Clustering analysis\n",
        "\n",
        "km=KMeans(n_clusters = 4, init= 'k-means++', max_iter = 300, n_init = 10, random_state =0)\n",
        "y_means = km.fit_predict(x)\n",
        "\n",
        "#lets find out the Results\n",
        "a = data['label']\n",
        "y_means= pd.DataFrame(y_means)\n",
        "z= pd.concat([y_means, a], axis =1)\n",
        "z=z.rename(columns = {0: 'cluster'})\n",
        "\n"
      ],
      "metadata": {
        "trusted": true,
        "execution": {
          "iopub.status.busy": "2025-09-10T15:12:29.727391Z",
          "iopub.execute_input": "2025-09-10T15:12:29.727731Z",
          "iopub.status.idle": "2025-09-10T15:12:30.58447Z",
          "shell.execute_reply.started": "2025-09-10T15:12:29.727707Z",
          "shell.execute_reply": "2025-09-10T15:12:30.581119Z"
        },
        "id": "LJ172wY8Qnn3"
      },
      "outputs": [],
      "execution_count": 13
    },
    {
      "cell_type": "code",
      "source": [
        "#let check the clusters of each Crops\n",
        "print('Crops in First cluster : ', z[z['cluster']==0]['label'].unique())\n",
        "print('Crops in Second cluster : ', z[z['cluster']==1]['label'].unique())\n",
        "print('Crops in Third cluster : ', z[z['cluster']==2]['label'].unique())\n",
        "print('Crops in Fourth cluster : ', z[z['cluster']==3]['label'].unique())"
      ],
      "metadata": {
        "trusted": true,
        "execution": {
          "iopub.status.busy": "2025-09-10T15:12:30.585611Z",
          "iopub.execute_input": "2025-09-10T15:12:30.585973Z",
          "iopub.status.idle": "2025-09-10T15:12:30.604939Z",
          "shell.execute_reply.started": "2025-09-10T15:12:30.585941Z",
          "shell.execute_reply": "2025-09-10T15:12:30.602003Z"
        },
        "colab": {
          "base_uri": "https://localhost:8080/"
        },
        "id": "rm18m7lzQnoA",
        "outputId": "fd80bd7a-634d-4c11-d541-386b9a0db4b8"
      },
      "outputs": [
        {
          "output_type": "stream",
          "name": "stdout",
          "text": [
            "Crops in First cluster :  ['grapes' 'apple']\n",
            "Crops in Second cluster :  ['maize' 'chickpea' 'kidneybeans' 'pigeonpeas' 'mothbeans' 'mungbean'\n",
            " 'blackgram' 'lentil' 'pomegranate' 'mango' 'orange' 'papaya' 'coconut']\n",
            "Crops in Third cluster :  ['maize' 'banana' 'watermelon' 'muskmelon' 'papaya' 'cotton' 'coffee']\n",
            "Crops in Fourth cluster :  ['rice' 'pigeonpeas' 'papaya' 'coconut' 'jute' 'coffee']\n"
          ]
        }
      ],
      "execution_count": 14
    },
    {
      "cell_type": "code",
      "source": [
        "y = data['label']\n",
        "x = data.drop(['label'], axis = 1)\n",
        "\n",
        "print('Shape of x: ', x.shape)\n",
        "print('Shape of Y: ', y.shape)\n"
      ],
      "metadata": {
        "trusted": true,
        "execution": {
          "iopub.status.busy": "2025-09-10T15:12:30.607168Z",
          "iopub.execute_input": "2025-09-10T15:12:30.609257Z",
          "iopub.status.idle": "2025-09-10T15:12:30.625596Z",
          "shell.execute_reply.started": "2025-09-10T15:12:30.608495Z",
          "shell.execute_reply": "2025-09-10T15:12:30.622668Z"
        },
        "colab": {
          "base_uri": "https://localhost:8080/"
        },
        "id": "4aQHNcfrQnoB",
        "outputId": "8f4f813e-ac6b-40fc-8046-9af3ff6b619a"
      },
      "outputs": [
        {
          "output_type": "stream",
          "name": "stdout",
          "text": [
            "Shape of x:  (2200, 7)\n",
            "Shape of Y:  (2200,)\n"
          ]
        }
      ],
      "execution_count": 15
    },
    {
      "cell_type": "code",
      "source": [
        "# let create training and testing sets for validation of results\n",
        "\n",
        "from sklearn.model_selection import train_test_split\n",
        "\n",
        "x_train, x_test, y_train, y_test = train_test_split(x, y, test_size = 0.2, random_state=0)\n",
        "\n",
        "print('The Shape of x Train: ', x_train.shape)\n",
        "print('The Shape of x Test: ', x_test.shape)\n",
        "print('The Shape of y Train: ', y_train.shape)\n",
        "print('The Shape of y Train: ', y_test.shape)"
      ],
      "metadata": {
        "trusted": true,
        "execution": {
          "iopub.status.busy": "2025-09-10T15:12:30.629105Z",
          "iopub.execute_input": "2025-09-10T15:12:30.629574Z",
          "iopub.status.idle": "2025-09-10T15:12:30.649425Z",
          "shell.execute_reply.started": "2025-09-10T15:12:30.629529Z",
          "shell.execute_reply": "2025-09-10T15:12:30.646994Z"
        },
        "colab": {
          "base_uri": "https://localhost:8080/"
        },
        "id": "Q8wD37mtQnoB",
        "outputId": "6aaaa41d-6a90-4390-aff8-c6641c9506b6"
      },
      "outputs": [
        {
          "output_type": "stream",
          "name": "stdout",
          "text": [
            "The Shape of x Train:  (1760, 7)\n",
            "The Shape of x Test:  (440, 7)\n",
            "The Shape of y Train:  (1760,)\n",
            "The Shape of y Train:  (440,)\n"
          ]
        }
      ],
      "execution_count": 16
    },
    {
      "cell_type": "code",
      "source": [
        "from sklearn.linear_model import LogisticRegression\n",
        "\n",
        "model = LogisticRegression()\n",
        "model.fit(x_train, y_train)\n",
        "y_pred= model.predict(x_test)"
      ],
      "metadata": {
        "trusted": true,
        "execution": {
          "iopub.status.busy": "2025-09-10T15:12:30.65245Z",
          "iopub.execute_input": "2025-09-10T15:12:30.654888Z",
          "iopub.status.idle": "2025-09-10T15:12:30.890454Z",
          "shell.execute_reply.started": "2025-09-10T15:12:30.654841Z",
          "shell.execute_reply": "2025-09-10T15:12:30.889152Z"
        },
        "id": "ZIBahGrrQnoB"
      },
      "outputs": [],
      "execution_count": 17
    },
    {
      "cell_type": "code",
      "source": [
        "data.head()"
      ],
      "metadata": {
        "trusted": true,
        "execution": {
          "iopub.status.busy": "2025-09-10T15:12:32.304345Z",
          "iopub.execute_input": "2025-09-10T15:12:32.304665Z",
          "iopub.status.idle": "2025-09-10T15:12:32.323401Z",
          "shell.execute_reply.started": "2025-09-10T15:12:32.30464Z",
          "shell.execute_reply": "2025-09-10T15:12:32.321991Z"
        },
        "colab": {
          "base_uri": "https://localhost:8080/",
          "height": 206
        },
        "id": "x0oQQnOdQnoB",
        "outputId": "09fb0d49-9ba8-4131-b68c-3f671a095a6b"
      },
      "outputs": [
        {
          "output_type": "execute_result",
          "data": {
            "text/plain": [
              "    N   P   K  temperature   humidity        ph    rainfall label\n",
              "0  90  42  43    20.879744  82.002744  6.502985  202.935536  rice\n",
              "1  85  58  41    21.770462  80.319644  7.038096  226.655537  rice\n",
              "2  60  55  44    23.004459  82.320763  7.840207  263.964248  rice\n",
              "3  74  35  40    26.491096  80.158363  6.980401  242.864034  rice\n",
              "4  78  42  42    20.130175  81.604873  7.628473  262.717340  rice"
            ],
            "text/html": [
              "\n",
              "  <div id=\"df-48fefed4-7345-4791-9152-08d687371d0b\" class=\"colab-df-container\">\n",
              "    <div>\n",
              "<style scoped>\n",
              "    .dataframe tbody tr th:only-of-type {\n",
              "        vertical-align: middle;\n",
              "    }\n",
              "\n",
              "    .dataframe tbody tr th {\n",
              "        vertical-align: top;\n",
              "    }\n",
              "\n",
              "    .dataframe thead th {\n",
              "        text-align: right;\n",
              "    }\n",
              "</style>\n",
              "<table border=\"1\" class=\"dataframe\">\n",
              "  <thead>\n",
              "    <tr style=\"text-align: right;\">\n",
              "      <th></th>\n",
              "      <th>N</th>\n",
              "      <th>P</th>\n",
              "      <th>K</th>\n",
              "      <th>temperature</th>\n",
              "      <th>humidity</th>\n",
              "      <th>ph</th>\n",
              "      <th>rainfall</th>\n",
              "      <th>label</th>\n",
              "    </tr>\n",
              "  </thead>\n",
              "  <tbody>\n",
              "    <tr>\n",
              "      <th>0</th>\n",
              "      <td>90</td>\n",
              "      <td>42</td>\n",
              "      <td>43</td>\n",
              "      <td>20.879744</td>\n",
              "      <td>82.002744</td>\n",
              "      <td>6.502985</td>\n",
              "      <td>202.935536</td>\n",
              "      <td>rice</td>\n",
              "    </tr>\n",
              "    <tr>\n",
              "      <th>1</th>\n",
              "      <td>85</td>\n",
              "      <td>58</td>\n",
              "      <td>41</td>\n",
              "      <td>21.770462</td>\n",
              "      <td>80.319644</td>\n",
              "      <td>7.038096</td>\n",
              "      <td>226.655537</td>\n",
              "      <td>rice</td>\n",
              "    </tr>\n",
              "    <tr>\n",
              "      <th>2</th>\n",
              "      <td>60</td>\n",
              "      <td>55</td>\n",
              "      <td>44</td>\n",
              "      <td>23.004459</td>\n",
              "      <td>82.320763</td>\n",
              "      <td>7.840207</td>\n",
              "      <td>263.964248</td>\n",
              "      <td>rice</td>\n",
              "    </tr>\n",
              "    <tr>\n",
              "      <th>3</th>\n",
              "      <td>74</td>\n",
              "      <td>35</td>\n",
              "      <td>40</td>\n",
              "      <td>26.491096</td>\n",
              "      <td>80.158363</td>\n",
              "      <td>6.980401</td>\n",
              "      <td>242.864034</td>\n",
              "      <td>rice</td>\n",
              "    </tr>\n",
              "    <tr>\n",
              "      <th>4</th>\n",
              "      <td>78</td>\n",
              "      <td>42</td>\n",
              "      <td>42</td>\n",
              "      <td>20.130175</td>\n",
              "      <td>81.604873</td>\n",
              "      <td>7.628473</td>\n",
              "      <td>262.717340</td>\n",
              "      <td>rice</td>\n",
              "    </tr>\n",
              "  </tbody>\n",
              "</table>\n",
              "</div>\n",
              "    <div class=\"colab-df-buttons\">\n",
              "\n",
              "  <div class=\"colab-df-container\">\n",
              "    <button class=\"colab-df-convert\" onclick=\"convertToInteractive('df-48fefed4-7345-4791-9152-08d687371d0b')\"\n",
              "            title=\"Convert this dataframe to an interactive table.\"\n",
              "            style=\"display:none;\">\n",
              "\n",
              "  <svg xmlns=\"http://www.w3.org/2000/svg\" height=\"24px\" viewBox=\"0 -960 960 960\">\n",
              "    <path d=\"M120-120v-720h720v720H120Zm60-500h600v-160H180v160Zm220 220h160v-160H400v160Zm0 220h160v-160H400v160ZM180-400h160v-160H180v160Zm440 0h160v-160H620v160ZM180-180h160v-160H180v160Zm440 0h160v-160H620v160Z\"/>\n",
              "  </svg>\n",
              "    </button>\n",
              "\n",
              "  <style>\n",
              "    .colab-df-container {\n",
              "      display:flex;\n",
              "      gap: 12px;\n",
              "    }\n",
              "\n",
              "    .colab-df-convert {\n",
              "      background-color: #E8F0FE;\n",
              "      border: none;\n",
              "      border-radius: 50%;\n",
              "      cursor: pointer;\n",
              "      display: none;\n",
              "      fill: #1967D2;\n",
              "      height: 32px;\n",
              "      padding: 0 0 0 0;\n",
              "      width: 32px;\n",
              "    }\n",
              "\n",
              "    .colab-df-convert:hover {\n",
              "      background-color: #E2EBFA;\n",
              "      box-shadow: 0px 1px 2px rgba(60, 64, 67, 0.3), 0px 1px 3px 1px rgba(60, 64, 67, 0.15);\n",
              "      fill: #174EA6;\n",
              "    }\n",
              "\n",
              "    .colab-df-buttons div {\n",
              "      margin-bottom: 4px;\n",
              "    }\n",
              "\n",
              "    [theme=dark] .colab-df-convert {\n",
              "      background-color: #3B4455;\n",
              "      fill: #D2E3FC;\n",
              "    }\n",
              "\n",
              "    [theme=dark] .colab-df-convert:hover {\n",
              "      background-color: #434B5C;\n",
              "      box-shadow: 0px 1px 3px 1px rgba(0, 0, 0, 0.15);\n",
              "      filter: drop-shadow(0px 1px 2px rgba(0, 0, 0, 0.3));\n",
              "      fill: #FFFFFF;\n",
              "    }\n",
              "  </style>\n",
              "\n",
              "    <script>\n",
              "      const buttonEl =\n",
              "        document.querySelector('#df-48fefed4-7345-4791-9152-08d687371d0b button.colab-df-convert');\n",
              "      buttonEl.style.display =\n",
              "        google.colab.kernel.accessAllowed ? 'block' : 'none';\n",
              "\n",
              "      async function convertToInteractive(key) {\n",
              "        const element = document.querySelector('#df-48fefed4-7345-4791-9152-08d687371d0b');\n",
              "        const dataTable =\n",
              "          await google.colab.kernel.invokeFunction('convertToInteractive',\n",
              "                                                    [key], {});\n",
              "        if (!dataTable) return;\n",
              "\n",
              "        const docLinkHtml = 'Like what you see? Visit the ' +\n",
              "          '<a target=\"_blank\" href=https://colab.research.google.com/notebooks/data_table.ipynb>data table notebook</a>'\n",
              "          + ' to learn more about interactive tables.';\n",
              "        element.innerHTML = '';\n",
              "        dataTable['output_type'] = 'display_data';\n",
              "        await google.colab.output.renderOutput(dataTable, element);\n",
              "        const docLink = document.createElement('div');\n",
              "        docLink.innerHTML = docLinkHtml;\n",
              "        element.appendChild(docLink);\n",
              "      }\n",
              "    </script>\n",
              "  </div>\n",
              "\n",
              "\n",
              "    <div id=\"df-eb84d6b5-9f4d-4ba5-862d-a7ffe4ba52ed\">\n",
              "      <button class=\"colab-df-quickchart\" onclick=\"quickchart('df-eb84d6b5-9f4d-4ba5-862d-a7ffe4ba52ed')\"\n",
              "                title=\"Suggest charts\"\n",
              "                style=\"display:none;\">\n",
              "\n",
              "<svg xmlns=\"http://www.w3.org/2000/svg\" height=\"24px\"viewBox=\"0 0 24 24\"\n",
              "     width=\"24px\">\n",
              "    <g>\n",
              "        <path d=\"M19 3H5c-1.1 0-2 .9-2 2v14c0 1.1.9 2 2 2h14c1.1 0 2-.9 2-2V5c0-1.1-.9-2-2-2zM9 17H7v-7h2v7zm4 0h-2V7h2v10zm4 0h-2v-4h2v4z\"/>\n",
              "    </g>\n",
              "</svg>\n",
              "      </button>\n",
              "\n",
              "<style>\n",
              "  .colab-df-quickchart {\n",
              "      --bg-color: #E8F0FE;\n",
              "      --fill-color: #1967D2;\n",
              "      --hover-bg-color: #E2EBFA;\n",
              "      --hover-fill-color: #174EA6;\n",
              "      --disabled-fill-color: #AAA;\n",
              "      --disabled-bg-color: #DDD;\n",
              "  }\n",
              "\n",
              "  [theme=dark] .colab-df-quickchart {\n",
              "      --bg-color: #3B4455;\n",
              "      --fill-color: #D2E3FC;\n",
              "      --hover-bg-color: #434B5C;\n",
              "      --hover-fill-color: #FFFFFF;\n",
              "      --disabled-bg-color: #3B4455;\n",
              "      --disabled-fill-color: #666;\n",
              "  }\n",
              "\n",
              "  .colab-df-quickchart {\n",
              "    background-color: var(--bg-color);\n",
              "    border: none;\n",
              "    border-radius: 50%;\n",
              "    cursor: pointer;\n",
              "    display: none;\n",
              "    fill: var(--fill-color);\n",
              "    height: 32px;\n",
              "    padding: 0;\n",
              "    width: 32px;\n",
              "  }\n",
              "\n",
              "  .colab-df-quickchart:hover {\n",
              "    background-color: var(--hover-bg-color);\n",
              "    box-shadow: 0 1px 2px rgba(60, 64, 67, 0.3), 0 1px 3px 1px rgba(60, 64, 67, 0.15);\n",
              "    fill: var(--button-hover-fill-color);\n",
              "  }\n",
              "\n",
              "  .colab-df-quickchart-complete:disabled,\n",
              "  .colab-df-quickchart-complete:disabled:hover {\n",
              "    background-color: var(--disabled-bg-color);\n",
              "    fill: var(--disabled-fill-color);\n",
              "    box-shadow: none;\n",
              "  }\n",
              "\n",
              "  .colab-df-spinner {\n",
              "    border: 2px solid var(--fill-color);\n",
              "    border-color: transparent;\n",
              "    border-bottom-color: var(--fill-color);\n",
              "    animation:\n",
              "      spin 1s steps(1) infinite;\n",
              "  }\n",
              "\n",
              "  @keyframes spin {\n",
              "    0% {\n",
              "      border-color: transparent;\n",
              "      border-bottom-color: var(--fill-color);\n",
              "      border-left-color: var(--fill-color);\n",
              "    }\n",
              "    20% {\n",
              "      border-color: transparent;\n",
              "      border-left-color: var(--fill-color);\n",
              "      border-top-color: var(--fill-color);\n",
              "    }\n",
              "    30% {\n",
              "      border-color: transparent;\n",
              "      border-left-color: var(--fill-color);\n",
              "      border-top-color: var(--fill-color);\n",
              "      border-right-color: var(--fill-color);\n",
              "    }\n",
              "    40% {\n",
              "      border-color: transparent;\n",
              "      border-right-color: var(--fill-color);\n",
              "      border-top-color: var(--fill-color);\n",
              "    }\n",
              "    60% {\n",
              "      border-color: transparent;\n",
              "      border-right-color: var(--fill-color);\n",
              "    }\n",
              "    80% {\n",
              "      border-color: transparent;\n",
              "      border-right-color: var(--fill-color);\n",
              "      border-bottom-color: var(--fill-color);\n",
              "    }\n",
              "    90% {\n",
              "      border-color: transparent;\n",
              "      border-bottom-color: var(--fill-color);\n",
              "    }\n",
              "  }\n",
              "</style>\n",
              "\n",
              "      <script>\n",
              "        async function quickchart(key) {\n",
              "          const quickchartButtonEl =\n",
              "            document.querySelector('#' + key + ' button');\n",
              "          quickchartButtonEl.disabled = true;  // To prevent multiple clicks.\n",
              "          quickchartButtonEl.classList.add('colab-df-spinner');\n",
              "          try {\n",
              "            const charts = await google.colab.kernel.invokeFunction(\n",
              "                'suggestCharts', [key], {});\n",
              "          } catch (error) {\n",
              "            console.error('Error during call to suggestCharts:', error);\n",
              "          }\n",
              "          quickchartButtonEl.classList.remove('colab-df-spinner');\n",
              "          quickchartButtonEl.classList.add('colab-df-quickchart-complete');\n",
              "        }\n",
              "        (() => {\n",
              "          let quickchartButtonEl =\n",
              "            document.querySelector('#df-eb84d6b5-9f4d-4ba5-862d-a7ffe4ba52ed button');\n",
              "          quickchartButtonEl.style.display =\n",
              "            google.colab.kernel.accessAllowed ? 'block' : 'none';\n",
              "        })();\n",
              "      </script>\n",
              "    </div>\n",
              "\n",
              "    </div>\n",
              "  </div>\n"
            ],
            "application/vnd.google.colaboratory.intrinsic+json": {
              "type": "dataframe",
              "variable_name": "data",
              "summary": "{\n  \"name\": \"data\",\n  \"rows\": 2200,\n  \"fields\": [\n    {\n      \"column\": \"N\",\n      \"properties\": {\n        \"dtype\": \"number\",\n        \"std\": 36,\n        \"min\": 0,\n        \"max\": 140,\n        \"num_unique_values\": 137,\n        \"samples\": [\n          106,\n          101,\n          88\n        ],\n        \"semantic_type\": \"\",\n        \"description\": \"\"\n      }\n    },\n    {\n      \"column\": \"P\",\n      \"properties\": {\n        \"dtype\": \"number\",\n        \"std\": 32,\n        \"min\": 5,\n        \"max\": 145,\n        \"num_unique_values\": 117,\n        \"samples\": [\n          69,\n          37,\n          11\n        ],\n        \"semantic_type\": \"\",\n        \"description\": \"\"\n      }\n    },\n    {\n      \"column\": \"K\",\n      \"properties\": {\n        \"dtype\": \"number\",\n        \"std\": 50,\n        \"min\": 5,\n        \"max\": 205,\n        \"num_unique_values\": 73,\n        \"samples\": [\n          42,\n          12,\n          15\n        ],\n        \"semantic_type\": \"\",\n        \"description\": \"\"\n      }\n    },\n    {\n      \"column\": \"temperature\",\n      \"properties\": {\n        \"dtype\": \"number\",\n        \"std\": 5.063748599958843,\n        \"min\": 8.825674745,\n        \"max\": 43.67549305,\n        \"num_unique_values\": 2200,\n        \"samples\": [\n          29.49401389,\n          26.1793464,\n          43.36051537\n        ],\n        \"semantic_type\": \"\",\n        \"description\": \"\"\n      }\n    },\n    {\n      \"column\": \"humidity\",\n      \"properties\": {\n        \"dtype\": \"number\",\n        \"std\": 22.263811589761115,\n        \"min\": 14.25803981,\n        \"max\": 99.98187601,\n        \"num_unique_values\": 2200,\n        \"samples\": [\n          94.72981338,\n          86.52258079,\n          93.35191636\n        ],\n        \"semantic_type\": \"\",\n        \"description\": \"\"\n      }\n    },\n    {\n      \"column\": \"ph\",\n      \"properties\": {\n        \"dtype\": \"number\",\n        \"std\": 0.7739376880298721,\n        \"min\": 3.504752314,\n        \"max\": 9.93509073,\n        \"num_unique_values\": 2200,\n        \"samples\": [\n          6.185053234,\n          6.25933595,\n          6.941496806\n        ],\n        \"semantic_type\": \"\",\n        \"description\": \"\"\n      }\n    },\n    {\n      \"column\": \"rainfall\",\n      \"properties\": {\n        \"dtype\": \"number\",\n        \"std\": 54.95838852487811,\n        \"min\": 20.21126747,\n        \"max\": 298.5601175,\n        \"num_unique_values\": 2200,\n        \"samples\": [\n          26.30820876,\n          49.43050977,\n          114.778071\n        ],\n        \"semantic_type\": \"\",\n        \"description\": \"\"\n      }\n    },\n    {\n      \"column\": \"label\",\n      \"properties\": {\n        \"dtype\": \"category\",\n        \"num_unique_values\": 22,\n        \"samples\": [\n          \"rice\",\n          \"watermelon\",\n          \"lentil\"\n        ],\n        \"semantic_type\": \"\",\n        \"description\": \"\"\n      }\n    }\n  ]\n}"
            }
          },
          "metadata": {},
          "execution_count": 18
        }
      ],
      "execution_count": 18
    },
    {
      "cell_type": "code",
      "source": [
        "from sklearn.metrics import accuracy_score, precision_score, recall_score, f1_score, roc_auc_score\n",
        "\n",
        "# Compute additional metrics\n",
        "accuracy = accuracy_score(y_test, y_pred)\n",
        "precision = precision_score(y_test, y_pred, average='weighted') # Use 'weighted' average for multiclass\n",
        "recall = recall_score(y_test, y_pred, average='weighted') # Use 'weighted' average for multiclass\n",
        "f1 = f1_score(y_test, y_pred, average='weighted') # Use 'weighted' average for multiclass\n",
        "\n",
        "print(\"Accuracy:\", accuracy)\n",
        "print(\"Precision:\", precision)\n",
        "print(\"Recall:\", recall)\n",
        "print(\"F1 Score:\", f1)\n"
      ],
      "metadata": {
        "trusted": true,
        "execution": {
          "iopub.status.busy": "2025-09-10T15:12:32.324744Z",
          "iopub.execute_input": "2025-09-10T15:12:32.325124Z",
          "iopub.status.idle": "2025-09-10T15:12:32.3572Z",
          "shell.execute_reply.started": "2025-09-10T15:12:32.32509Z",
          "shell.execute_reply": "2025-09-10T15:12:32.355877Z"
        },
        "colab": {
          "base_uri": "https://localhost:8080/"
        },
        "id": "rGDLNQoQQnoB",
        "outputId": "69a84a25-aeb0-44ef-8ce8-ff16958f2e3a"
      },
      "outputs": [
        {
          "output_type": "stream",
          "name": "stdout",
          "text": [
            "Accuracy: 0.9681818181818181\n",
            "Precision: 0.9699452867394045\n",
            "Recall: 0.9681818181818181\n",
            "F1 Score: 0.9681168080082031\n"
          ]
        }
      ],
      "execution_count": 19
    },
    {
      "cell_type": "code",
      "source": [
        "prediction = model.predict(np.array([[120,\n",
        "                                     90,\n",
        "                                     80,\n",
        "                                     20,\n",
        "                                     20,\n",
        "                                     10,\n",
        "                                     200]]))\n",
        "print('The Suggested Crop for Given Climatic Condition is: ', prediction)"
      ],
      "metadata": {
        "trusted": true,
        "execution": {
          "iopub.status.busy": "2025-09-10T15:13:05.660897Z",
          "iopub.execute_input": "2025-09-10T15:13:05.661283Z",
          "iopub.status.idle": "2025-09-10T15:13:05.667621Z",
          "shell.execute_reply.started": "2025-09-10T15:13:05.661257Z",
          "shell.execute_reply": "2025-09-10T15:13:05.666311Z"
        },
        "colab": {
          "base_uri": "https://localhost:8080/"
        },
        "id": "e-FYdElDQnoB",
        "outputId": "55d0e222-1ce0-4b29-e23d-0a8d2ffeb6e8"
      },
      "outputs": [
        {
          "output_type": "stream",
          "name": "stdout",
          "text": [
            "The Suggested Crop for Given Climatic Condition is:  ['banana']\n"
          ]
        }
      ],
      "execution_count": 24
    },
    {
      "cell_type": "code",
      "metadata": {
        "colab": {
          "base_uri": "https://localhost:8080/"
        },
        "id": "7b9b6491",
        "outputId": "1739b288-843f-4e31-d468-0cf97115207a"
      },
      "source": [
        "import pickle\n",
        "\n",
        "# Save the trained model to a pickle file\n",
        "filename = 'crop_recommendation_model.pkl'\n",
        "pickle.dump(model, open(filename, 'wb'))\n",
        "\n",
        "print(f\"Model saved to {filename}\")"
      ],
      "execution_count": 25,
      "outputs": [
        {
          "output_type": "stream",
          "name": "stdout",
          "text": [
            "Model saved to crop_recommendation_model.pkl\n"
          ]
        }
      ]
    }
  ]
}